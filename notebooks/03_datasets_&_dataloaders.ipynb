{
 "cells": [
  {
   "cell_type": "markdown",
   "metadata": {},
   "source": [
    "# DATASETS & DATALOADERS\n",
    "\n",
    "Code for processing data samples can get messy and hard to maintain; we ideally want our dataset code to be decoupled fom model training code for better readability and modularity py torch provides tow data primitive: `torch.utils.data.DataLoader` and `torch.utils.data.Dataset` that allow you to use pre-loaded datasets as well as your own data. `Dataset` stores the samples of their corresponding labels and `DataLoader` wraps an iterable around the dataset to enable easy access tot the samples."
   ]
  },
  {
   "cell_type": "markdown",
   "metadata": {},
   "source": [
    "PyTorch domain libraries (TorchVsion, TorchAudio, TorchText) provide a number of pre-loaded datasets that subclass torch.utils.data.Dataset and implement functions specific for the particular data. They can be used to prototype and benchmark your model."
   ]
  },
  {
   "cell_type": "markdown",
   "metadata": {},
   "source": [
    "## Loading a dataset\n",
    "\n",
    "Loading a sample dataset (FashionMNIST). "
   ]
  },
  {
   "cell_type": "code",
   "execution_count": 2,
   "metadata": {},
   "outputs": [],
   "source": [
    "# same as in quickstart\n",
    "# importing torch\n",
    "\n",
    "import torch # importing main torch library\n",
    "from torch import nn # importing torch neural network related submodule\n",
    "from torch.utils.data import DataLoader # importing DataLoader class\n",
    "from torchvision import datasets # importing datasets class from vision-specific library torchvision\n",
    "# other domain specific libraries are torchtext and torchaudio\n",
    "from torchvision.transforms import ToTensor\n",
    "import matplotlib.pyplot as plt\n",
    "\n",
    "# Downloading MNIST datasets\n",
    "training_data = datasets.FashionMNIST(\n",
    "    root =  \"data\",\n",
    "    train = True,\n",
    "    download = True,\n",
    "    transform = ToTensor(),\n",
    ")\n",
    "\n",
    "test_data = datasets.FashionMNIST(\n",
    "    root = \"data\",\n",
    "    train = False,\n",
    "    download = True,\n",
    "    transform = ToTensor(),\n",
    ")"
   ]
  },
  {
   "cell_type": "markdown",
   "metadata": {},
   "source": [
    "# Iterating and Visualizing the dataset"
   ]
  },
  {
   "cell_type": "code",
   "execution_count": null,
   "metadata": {},
   "outputs": [],
   "source": [
    "labels_map = {\n",
    "     0: \"T-Shirt\",\n",
    "    1: \"Trouser\",\n",
    "    2: \"Pullover\",\n",
    "    3: \"Dress\",\n",
    "    4: \"Coat\",\n",
    "    5: \"Sandal\",\n",
    "    6: \"Shirt\",\n",
    "    7: \"Sneaker\",\n",
    "    8: \"Bag\",\n",
    "    9: \"Ankle Boot\",\n",
    "}"
   ]
  }
 ],
 "metadata": {
  "interpreter": {
   "hash": "7d2fe2d482dd73137fbf81d1da3e72911c1c53309a8984ee5895e5a737caaea8"
  },
  "kernelspec": {
   "display_name": "Python 3.9.9 64-bit ('torch': conda)",
   "name": "python3"
  },
  "language_info": {
   "codemirror_mode": {
    "name": "ipython",
    "version": 3
   },
   "file_extension": ".py",
   "mimetype": "text/x-python",
   "name": "python",
   "nbconvert_exporter": "python",
   "pygments_lexer": "ipython3",
   "version": "3.9.9"
  },
  "orig_nbformat": 4
 },
 "nbformat": 4,
 "nbformat_minor": 2
}
