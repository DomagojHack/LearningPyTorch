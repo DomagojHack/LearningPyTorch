{
 "cells": [
  {
   "cell_type": "markdown",
   "metadata": {},
   "source": [
    "# Automatic Differentiation with `torch.AUTOGRAD`\n",
    "\n",
    "> I do not understand this part\n",
    "\n",
    "When training NNs, the most frequently used algorithm is backpropagation. In this algorithm, parameters (model weights) are adjusted according to the **gradient** of the loss function with respect to the given parameter.\n",
    "\n",
    "To compute those gradients, PyTorch has a built-in differentiation engine called `torch.autograd`. It supports automatic computation of gradient for any computational graph.\n",
    "\n",
    "Consider the simplest one-layer neural network, with input `x`, parameters `w` and `b`, and some loss function. It can be defined in PyTorch in the following manner:"
   ]
  },
  {
   "cell_type": "code",
   "execution_count": 1,
   "metadata": {},
   "outputs": [],
   "source": [
    "import torch as th\n",
    "\n",
    "x = th.ones(5)\n",
    "y = th.zeros(3)\n",
    "w = th.randn(5, 3, requires_grad=True)\n",
    "b = th.randn(3, requires_grad=True)\n",
    "z = th.matmul(x, w)+b\n",
    "loss = th.nn.functional.binary_cross_entropy_with_logits(z,y)"
   ]
  },
  {
   "cell_type": "code",
   "execution_count": 2,
   "metadata": {},
   "outputs": [
    {
     "data": {
      "text/plain": [
       "tensor(0.5276, grad_fn=<BinaryCrossEntropyWithLogitsBackward0>)"
      ]
     },
     "execution_count": 2,
     "metadata": {},
     "output_type": "execute_result"
    }
   ],
   "source": [
    "loss"
   ]
  },
  {
   "cell_type": "markdown",
   "metadata": {},
   "source": [
    "## Tnesors, Functions and Computational graph\n",
    "\n",
    "This code defines the following **computational graph**:\n",
    "\n",
    "![computational graph](imgs/comp-graph.png)\n",
    "\n",
    "In this network `w` and `b` are **parameters**, which we need to optimize. Thus, we need to be able to compute the gradients of loss function with respect to those variables. in order to do that, we set the `requires_grad` property of those tensors."
   ]
  },
  {
   "cell_type": "markdown",
   "metadata": {},
   "source": [
    "> You can set the value of `requires_grad` when creating a tensor, or later by using `x.requires_grad_(True)` method."
   ]
  },
  {
   "cell_type": "markdown",
   "metadata": {},
   "source": [
    "A function that we apply to tensors to construct computational graph is in fact object of class `Function`. This object knows how to compute the function in the *forward* direction, and also how to compute the derivative during the *backward propagation* step. A reference to the backward propagation function is stored in `grad_fn` property of a tensor. You can find more information of `Function` [in the documentation](https://pytorch.org/docs/stable/autograd.html#function)."
   ]
  },
  {
   "cell_type": "code",
   "execution_count": 3,
   "metadata": {},
   "outputs": [
    {
     "name": "stdout",
     "output_type": "stream",
     "text": [
      "Gradient function for z = <AddBackward0 object at 0x7f50fc1c4190>\n",
      "Gradient function for loss = <BinaryCrossEntropyWithLogitsBackward0 object at 0x7f50fc222e80>\n"
     ]
    }
   ],
   "source": [
    "print(\"Gradient function for z =\", z.grad_fn)\n",
    "print(\"Gradient function for loss =\", loss.grad_fn)"
   ]
  },
  {
   "cell_type": "markdown",
   "metadata": {},
   "source": [
    "## Computing gradients\n",
    "To optimize weights of parameters in the neural network, we need to compute the derivatives of our loss function with respect to parameters, namely, we need $\\frac{\\delta loss}{\\delta w}$ and $\\frac{\\delta loss}{\\delta b}$ under some fixed values of `x` and `y`. To compute those derivatives, we call `loss.backward()`, and then retrieve the values fom `w.grad` and `b.grad`:"
   ]
  },
  {
   "cell_type": "code",
   "execution_count": 4,
   "metadata": {},
   "outputs": [
    {
     "name": "stdout",
     "output_type": "stream",
     "text": [
      "tensor([[0.0522, 0.1049, 0.2149],\n",
      "        [0.0522, 0.1049, 0.2149],\n",
      "        [0.0522, 0.1049, 0.2149],\n",
      "        [0.0522, 0.1049, 0.2149],\n",
      "        [0.0522, 0.1049, 0.2149]]) tensor([0.0522, 0.1049, 0.2149])\n"
     ]
    }
   ],
   "source": [
    "loss.backward()\n",
    "print(w.grad, b.grad)"
   ]
  },
  {
   "cell_type": "markdown",
   "metadata": {},
   "source": [
    "> - We can only obtain `grad` properties for the leaf nodes of the computational graph, which have `requires_grad` property set to `True`. For all other nodes in our graph, gradients will not be available.\n",
    "> - We can only perform gradient calculations using `backward` once on a given graph, for performance reasons. if we need to do several backward calls on the same graph, we need to pass `retain_graph=True` to the `backward` call."
   ]
  },
  {
   "cell_type": "markdown",
   "metadata": {},
   "source": [
    "## Disabling Gradient Tracking\n",
    "By default, all tensors with `requires_grad=True` are tracking their computational history and support gradient computation. However, there are some cases when we do not need to do what, for example, when we have trained the mode and just want to apply it to some input data, i.e. we only want to do *forward* computations trhough the network. We cant stop tracking computations by surrounding our computation code with torch.no_grad() block:"
   ]
  },
  {
   "cell_type": "code",
   "execution_count": 5,
   "metadata": {},
   "outputs": [
    {
     "name": "stdout",
     "output_type": "stream",
     "text": [
      "True\n",
      "False\n"
     ]
    }
   ],
   "source": [
    "z = th.matmul(x, w)+b\n",
    "print(z.requires_grad)\n",
    "\n",
    "with th.no_grad():\n",
    "    z = th.matmul(x, w)+b\n",
    "print(z.requires_grad)"
   ]
  },
  {
   "cell_type": "code",
   "execution_count": 6,
   "metadata": {},
   "outputs": [
    {
     "name": "stdout",
     "output_type": "stream",
     "text": [
      "False\n"
     ]
    }
   ],
   "source": [
    "# another way to achieve the same result is to use `detach()` method\n",
    "z = th.matmul(x, w)+b\n",
    "z_det = z.detach()\n",
    "print(z_det.requires_grad)"
   ]
  },
  {
   "cell_type": "markdown",
   "metadata": {},
   "source": [
    "There are reasons you might want to disable gradient tracking:\n",
    "- To mark some parameters in your neural network as **frozen parameters**. This is a very common scenario for finetuning a pretrained network\n",
    "- To speed up computations when you are only doing forward pass, because computations on tensors that do not track gradients would be more efficient."
   ]
  },
  {
   "cell_type": "markdown",
   "metadata": {},
   "source": [
    "## More on Computational Graphs\n",
    "\n",
    "Conceptually, autograd keeps a record of data (tensors) and all executed operations (along with the resulting new tensors) in directed acyclic graph (DAG) consisting of `Function` object. IN this DAG, leaves are the input tensors, roots are the output ttensors. By tracing this graph from roots to leaves, you can automatically compute the gradients usngthe chain rule.\n",
    "\n",
    "In a forward pass, autograd does two things simultaneously:\n",
    "\n",
    "- run the requested operation to compute a resulting tensor\n",
    "- maintain the operation’s gradient function in the DAG.\n",
    "\n",
    "The backward pass kicks off when .backward() is called on the DAG root. autograd then:\n",
    "\n",
    "- computes the gradients from each `.grad_fn`,\n",
    "- accumulates them in the respective tensor’s `.grad` attribute\n",
    "- using the chain rule, propagates all the way to the leaf tensors."
   ]
  },
  {
   "cell_type": "markdown",
   "metadata": {},
   "source": [
    "> **DAGs are dynamic in PyTorch** An important thing to note is that the graph is recreated from scratch; after each `.backward()` call, autograd starts populating a new graph. This is exactly what allows you to use control flow statements in your model; you can change the shape, size and operations at every iteration if needed."
   ]
  },
  {
   "cell_type": "markdown",
   "metadata": {},
   "source": [
    "## Optional Reading: Tensor Gradients and Jacobian Products\n",
    "\n",
    "In many cases, we have a scalar loss function, and we need to compute the gradient with respect to some parameters however there are cases when output fucntion is an arbitrary tensor. In this case, PyTorch allow you to compute so-called **Jacobian product** and not the actual gradient.\n",
    "\n",
    "For a vector function $\\overrightarrow{y}$, where $\\overrightarrow{x} = \\langle x_1, ... x_n \\rangle $ and $\\overrightarrow{y} = \\langle y_1, ... y_m \\rangle$, a gradient of  $\\overrightarrow{y}$ with respect to $\\overrightarrow{x}$ is given by Jacobian matrix:\n",
    "\n",
    "$$\n",
    "\n",
    " \\begin{pmatrix}\n",
    " \\frac{\\delta y_1}{\\delta x_1} & \\cdots & \\frac{\\delta y_1}{\\delta x_n} \\\\\n",
    " \\vdots & \\ddots & \\vdots \\\\\n",
    " \\frac{\\delta y_m}{\\delta x_1} & \\cdots & \\frac{\\delta y_m}{\\delta x_n}\n",
    " \\end{pmatrix}\n",
    "\n",
    "$$\n",
    "\n",
    "Instead of computin Jacobian matrix itself, PyTorch allows you to compute Jacobian Product $v^T \\cdot J$ for a given input vector $v=(v_1, v_m)$. This is achieved by calling `backward` with $v$ as an argument. The size of $v$ should be the same as the size of the original tensor, with respect to which we want to compute the product:"
   ]
  },
  {
   "cell_type": "code",
   "execution_count": 7,
   "metadata": {},
   "outputs": [
    {
     "name": "stdout",
     "output_type": "stream",
     "text": [
      "First call\n",
      " tensor([[4., 2., 2., 2., 2.],\n",
      "        [2., 4., 2., 2., 2.],\n",
      "        [2., 2., 4., 2., 2.],\n",
      "        [2., 2., 2., 4., 2.],\n",
      "        [2., 2., 2., 2., 4.]])\n",
      "\n",
      "Second call\n",
      " tensor([[8., 4., 4., 4., 4.],\n",
      "        [4., 8., 4., 4., 4.],\n",
      "        [4., 4., 8., 4., 4.],\n",
      "        [4., 4., 4., 8., 4.],\n",
      "        [4., 4., 4., 4., 8.]])\n",
      "\n",
      "Call after zeroing gradients\n",
      " tensor([[4., 2., 2., 2., 2.],\n",
      "        [2., 4., 2., 2., 2.],\n",
      "        [2., 2., 4., 2., 2.],\n",
      "        [2., 2., 2., 4., 2.],\n",
      "        [2., 2., 2., 2., 4.]])\n"
     ]
    }
   ],
   "source": [
    "inp = th.eye(5, requires_grad=True)\n",
    "out = (inp+1).pow(2)\n",
    "out.backward(th.ones_like(inp), retain_graph=True)\n",
    "print(\"First call\\n\", inp.grad)\n",
    "out.backward(th.ones_like(inp), retain_graph=True)\n",
    "print(\"\\nSecond call\\n\", inp.grad)\n",
    "inp.grad.zero_()\n",
    "out.backward(th.ones_like(inp), retain_graph=True)\n",
    "print(\"\\nCall after zeroing gradients\\n\", inp.grad)"
   ]
  },
  {
   "cell_type": "markdown",
   "metadata": {},
   "source": [
    "Notice that when we call `backward` for the second time with the same argument, the value of the gradient is different. This happens because wen doing `backward` propagation, PyTorch **accumulates the gradients**, i.e. the value of computed gradients is added to the `grad` property of all leaf nodes of computational graph. If you want to compute the proper gradients, you need to zero out the grad property before. In real-life training an *optimizer* helps us to do this.\n",
    "\n",
    "> Previously we were calling `backward()` function without parameters. This is essentially equivalent to calling `backward(torch.tensor(1.0))`, which is useful way to compute the gradients in case of scalar-valued function, such as loss during neural network training."
   ]
  },
  {
   "cell_type": "markdown",
   "metadata": {},
   "source": []
  }
 ],
 "metadata": {
  "interpreter": {
   "hash": "7d2fe2d482dd73137fbf81d1da3e72911c1c53309a8984ee5895e5a737caaea8"
  },
  "kernelspec": {
   "display_name": "Python 3.9.9 64-bit ('torch': conda)",
   "language": "python",
   "name": "python3"
  },
  "language_info": {
   "codemirror_mode": {
    "name": "ipython",
    "version": 3
   },
   "file_extension": ".py",
   "mimetype": "text/x-python",
   "name": "python",
   "nbconvert_exporter": "python",
   "pygments_lexer": "ipython3",
   "version": "3.9.9"
  },
  "orig_nbformat": 4
 },
 "nbformat": 4,
 "nbformat_minor": 2
}
