{
 "cells": [
  {
   "cell_type": "markdown",
   "metadata": {},
   "source": [
    "# Transforms\n",
    "\n",
    "data does not always com in its final processed form taht is required for training machine learning algorithms. We use transforms to perform some manipulations of the data and make it suitable for training.\n",
    "\n",
    "All TorchVision datasets have two parameters - `transform` to modify features and `target_transform` to modify the labels - that accept callables containing the transformation logic. The `torchvision.transforms` module offers several commonly-used transforms oout of the box.\n",
    "\n",
    "The FashinMNIST features are PIL image format, and the labels are integers. For training, we need the features as normalized tensors, and labels as one-hot encoded tensors. To make these transformations, we use `ToTensor` and `Lambda`."
   ]
  },
  {
   "cell_type": "code",
   "execution_count": 2,
   "metadata": {},
   "outputs": [],
   "source": [
    "import torch\n",
    "from torchvision import datasets\n",
    "from torchvision.transforms import ToTensor, Lambda\n",
    "\n",
    "ds = datasets.FashionMNIST(\n",
    "    root = \"data\",\n",
    "    train=True,\n",
    "    download=True,\n",
    "    transform=ToTensor(),\n",
    "    target_transform=Lambda(\n",
    "        lambda y: torch.zeros(\n",
    "            10, dtype=torch.float).scatter_(0, torch.tensor(y), value=1))\n",
    ")"
   ]
  },
  {
   "cell_type": "markdown",
   "metadata": {},
   "source": [
    "## `ToTensor()`\n",
    "\n",
    "`ToTensor` converts a PIL image or NumPy `ndarray` into `FloatTensor` and scales the image's pixel intensity values in the range `[0., 1.]`."
   ]
  },
  {
   "cell_type": "markdown",
   "metadata": {},
   "source": [
    "## Lambda transformations\n",
    "\n",
    "`Lambda` transforms apply any user-defined lambda function. Here, we define a function to turn integer into a one-hot encoded tensor. It first creates a zero tensor of size 10(the number of labels in our dataset) and calls `scatter_` which assigns a `value=1` on the index as given by the label y.\n",
    "\n",
    "```python\n",
    "target_transform=Lambda(\n",
    "        lambda y: torch.zeros(\n",
    "            10, dtype=torch.float).scatter_(0, torch.tensor(y), value=1))\n",
    "```"
   ]
  },
  {
   "cell_type": "code",
   "execution_count": 15,
   "metadata": {},
   "outputs": [
    {
     "data": {
      "image/png": "[encoded data removed]",
      "text/plain": [
       "<Figure size 432x288 with 2 Axes>"
      ]
     },
     "metadata": {
      "needs_background": "light"
     },
     "output_type": "display_data"
    },
    {
     "name": "stdout",
     "output_type": "stream",
     "text": [
      "tensor([0., 0., 0., 0., 0., 0., 0., 0., 0., 1.])\n"
     ]
    }
   ],
   "source": [
    "import matplotlib.pyplot as plt\n",
    "img, label = ds.__getitem__(0)\n",
    "\n",
    "plt.imshow(img.permute(1,2,0), cmap=\"gray\")\n",
    "plt.colorbar()\n",
    "plt.show()\n",
    "\n",
    "print(label)"
   ]
  }
 ],
 "metadata": {
  "interpreter": {
   "hash": "7d2fe2d482dd73137fbf81d1da3e72911c1c53309a8984ee5895e5a737caaea8"
  },
  "kernelspec": {
   "display_name": "Python 3.9.9 64-bit ('torch': conda)",
   "language": "python",
   "name": "python3"
  },
  "language_info": {
   "codemirror_mode": {
    "name": "ipython",
    "version": 3
   },
   "file_extension": ".py",
   "mimetype": "text/x-python",
   "name": "python",
   "nbconvert_exporter": "python",
   "pygments_lexer": "ipython3",
   "version": "3.9.9"
  },
  "orig_nbformat": 4
 },
 "nbformat": 4,
 "nbformat_minor": 2
}
